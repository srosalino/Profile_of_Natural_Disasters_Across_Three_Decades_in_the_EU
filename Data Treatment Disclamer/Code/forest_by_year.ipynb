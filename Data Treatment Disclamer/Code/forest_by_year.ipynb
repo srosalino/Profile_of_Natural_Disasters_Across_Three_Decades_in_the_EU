{
 "cells": [
  {
   "cell_type": "code",
   "execution_count": 32,
   "id": "a5f48e94-8859-4c82-acb9-656724ebba02",
   "metadata": {},
   "outputs": [],
   "source": [
    "# Import the necessary libraries\n",
    "import pandas as pd"
   ]
  },
  {
   "cell_type": "code",
   "execution_count": 33,
   "id": "e6d9b0b5-f9be-4737-9916-b1172ddecc0f",
   "metadata": {},
   "outputs": [],
   "source": [
    "# Read the forest dataset\n",
    "forest = pd.read_csv('Forest Area.csv')"
   ]
  },
  {
   "cell_type": "code",
   "execution_count": 34,
   "id": "2569b980-d390-4d2e-8408-d40e978b7bb0",
   "metadata": {},
   "outputs": [
    {
     "data": {
      "text/plain": [
       "Index(['CountryID', 'Country and Area', 'Forest Area, 1990 (1000 ha)',\n",
       "       'Forest Area, 2000 (1000 ha)', 'Forest Area, 2010 (1000 ha)',\n",
       "       'Forest Area, 2015 (1000 ha)', 'Forest Area, 2020 (1000 ha)',\n",
       "       'Total Land Area, 2020 (1000 ha)',\n",
       "       'Forest Area as a  Proportion of (%)\\nTotal Land Area, 2020',\n",
       "       'Deforestation, \\n2015-2020 (1000 ha/year)',\n",
       "       'Total Forest Area \\nAffected by Fire, 2015 (1000 ha)',\n",
       "       'European Region', 'Unnamed: 12'],\n",
       "      dtype='object')"
      ]
     },
     "execution_count": 34,
     "metadata": {},
     "output_type": "execute_result"
    }
   ],
   "source": [
    "# Check forest's columns\n",
    "forest.columns"
   ]
  },
  {
   "cell_type": "code",
   "execution_count": 35,
   "id": "4f563815-d11c-46a4-8c80-236f2778cd91",
   "metadata": {},
   "outputs": [
    {
     "data": {
      "text/html": [
       "<div>\n",
       "<style scoped>\n",
       "    .dataframe tbody tr th:only-of-type {\n",
       "        vertical-align: middle;\n",
       "    }\n",
       "\n",
       "    .dataframe tbody tr th {\n",
       "        vertical-align: top;\n",
       "    }\n",
       "\n",
       "    .dataframe thead th {\n",
       "        text-align: right;\n",
       "    }\n",
       "</style>\n",
       "<table border=\"1\" class=\"dataframe\">\n",
       "  <thead>\n",
       "    <tr style=\"text-align: right;\">\n",
       "      <th></th>\n",
       "      <th>Country and Area</th>\n",
       "      <th>Forest Area, 1990 (1000 ha)</th>\n",
       "      <th>Forest Area, 2000 (1000 ha)</th>\n",
       "      <th>Forest Area, 2010 (1000 ha)</th>\n",
       "      <th>Forest Area, 2015 (1000 ha)</th>\n",
       "      <th>Forest Area, 2020 (1000 ha)</th>\n",
       "      <th>European Region</th>\n",
       "    </tr>\n",
       "  </thead>\n",
       "  <tbody>\n",
       "    <tr>\n",
       "      <th>13</th>\n",
       "      <td>Austria</td>\n",
       "      <td>3775.67</td>\n",
       "      <td>3838.14</td>\n",
       "      <td>3863.20</td>\n",
       "      <td>3881.19</td>\n",
       "      <td>3899.15</td>\n",
       "      <td>Western Europe</td>\n",
       "    </tr>\n",
       "    <tr>\n",
       "      <th>20</th>\n",
       "      <td>Belgium</td>\n",
       "      <td>677.40</td>\n",
       "      <td>667.30</td>\n",
       "      <td>689.87</td>\n",
       "      <td>689.3</td>\n",
       "      <td>689.30</td>\n",
       "      <td>Western Europe</td>\n",
       "    </tr>\n",
       "    <tr>\n",
       "      <th>32</th>\n",
       "      <td>Bulgaria</td>\n",
       "      <td>3327.00</td>\n",
       "      <td>3375.00</td>\n",
       "      <td>3737.00</td>\n",
       "      <td>3833</td>\n",
       "      <td>3893.00</td>\n",
       "      <td>Eastern Europe</td>\n",
       "    </tr>\n",
       "    <tr>\n",
       "      <th>50</th>\n",
       "      <td>Croatia</td>\n",
       "      <td>1850.00</td>\n",
       "      <td>1885.00</td>\n",
       "      <td>1920.00</td>\n",
       "      <td>1922</td>\n",
       "      <td>1939.11</td>\n",
       "      <td>Southern Europe</td>\n",
       "    </tr>\n",
       "    <tr>\n",
       "      <th>53</th>\n",
       "      <td>Cyprus</td>\n",
       "      <td>161.11</td>\n",
       "      <td>171.61</td>\n",
       "      <td>172.84</td>\n",
       "      <td>172.71</td>\n",
       "      <td>172.53</td>\n",
       "      <td>Southern Europe</td>\n",
       "    </tr>\n",
       "  </tbody>\n",
       "</table>\n",
       "</div>"
      ],
      "text/plain": [
       "   Country and Area  Forest Area, 1990 (1000 ha)  Forest Area, 2000 (1000 ha)  \\\n",
       "13          Austria                      3775.67                      3838.14   \n",
       "20          Belgium                       677.40                       667.30   \n",
       "32         Bulgaria                      3327.00                      3375.00   \n",
       "50          Croatia                      1850.00                      1885.00   \n",
       "53           Cyprus                       161.11                       171.61   \n",
       "\n",
       "    Forest Area, 2010 (1000 ha) Forest Area, 2015 (1000 ha)  \\\n",
       "13                      3863.20                     3881.19   \n",
       "20                       689.87                       689.3   \n",
       "32                      3737.00                        3833   \n",
       "50                      1920.00                        1922   \n",
       "53                       172.84                      172.71   \n",
       "\n",
       "    Forest Area, 2020 (1000 ha)  European Region  \n",
       "13                      3899.15   Western Europe  \n",
       "20                       689.30   Western Europe  \n",
       "32                      3893.00   Eastern Europe  \n",
       "50                      1939.11  Southern Europe  \n",
       "53                       172.53  Southern Europe  "
      ]
     },
     "execution_count": 35,
     "metadata": {},
     "output_type": "execute_result"
    }
   ],
   "source": [
    "# Filter for only EU countries\n",
    "forest = forest[forest['European Region'].notnull()]\n",
    "\n",
    "# Remove unwanted columns\n",
    "forest = forest[['Country and Area', 'Forest Area, 1990 (1000 ha)', 'Forest Area, 2000 (1000 ha)', 'Forest Area, 2010 (1000 ha)', 'Forest Area, 2015 (1000 ha)', 'Forest Area, 2020 (1000 ha)', 'European Region']]\n",
    "forest.head()"
   ]
  },
  {
   "cell_type": "code",
   "execution_count": 36,
   "id": "84ddfd32-8934-44f9-b8ea-ebfff05c204b",
   "metadata": {},
   "outputs": [
    {
     "data": {
      "text/html": [
       "<div>\n",
       "<style scoped>\n",
       "    .dataframe tbody tr th:only-of-type {\n",
       "        vertical-align: middle;\n",
       "    }\n",
       "\n",
       "    .dataframe tbody tr th {\n",
       "        vertical-align: top;\n",
       "    }\n",
       "\n",
       "    .dataframe thead th {\n",
       "        text-align: right;\n",
       "    }\n",
       "</style>\n",
       "<table border=\"1\" class=\"dataframe\">\n",
       "  <thead>\n",
       "    <tr style=\"text-align: right;\">\n",
       "      <th></th>\n",
       "      <th>Country and Area</th>\n",
       "      <th>European Region</th>\n",
       "      <th>Year</th>\n",
       "      <th>Forest Area (1000 ha)</th>\n",
       "    </tr>\n",
       "  </thead>\n",
       "  <tbody>\n",
       "    <tr>\n",
       "      <th>0</th>\n",
       "      <td>Austria</td>\n",
       "      <td>Western Europe</td>\n",
       "      <td>1990</td>\n",
       "      <td>3775.67</td>\n",
       "    </tr>\n",
       "    <tr>\n",
       "      <th>1</th>\n",
       "      <td>Belgium</td>\n",
       "      <td>Western Europe</td>\n",
       "      <td>1990</td>\n",
       "      <td>677.4</td>\n",
       "    </tr>\n",
       "    <tr>\n",
       "      <th>2</th>\n",
       "      <td>Bulgaria</td>\n",
       "      <td>Eastern Europe</td>\n",
       "      <td>1990</td>\n",
       "      <td>3327.0</td>\n",
       "    </tr>\n",
       "    <tr>\n",
       "      <th>3</th>\n",
       "      <td>Croatia</td>\n",
       "      <td>Southern Europe</td>\n",
       "      <td>1990</td>\n",
       "      <td>1850.0</td>\n",
       "    </tr>\n",
       "    <tr>\n",
       "      <th>4</th>\n",
       "      <td>Cyprus</td>\n",
       "      <td>Southern Europe</td>\n",
       "      <td>1990</td>\n",
       "      <td>161.11</td>\n",
       "    </tr>\n",
       "    <tr>\n",
       "      <th>5</th>\n",
       "      <td>Czechia</td>\n",
       "      <td>Eastern Europe</td>\n",
       "      <td>1990</td>\n",
       "      <td>2629.42</td>\n",
       "    </tr>\n",
       "    <tr>\n",
       "      <th>6</th>\n",
       "      <td>Denmark</td>\n",
       "      <td>Northern Europe</td>\n",
       "      <td>1990</td>\n",
       "      <td>531.44</td>\n",
       "    </tr>\n",
       "    <tr>\n",
       "      <th>7</th>\n",
       "      <td>Estonia</td>\n",
       "      <td>Northern Europe</td>\n",
       "      <td>1990</td>\n",
       "      <td>2205.9</td>\n",
       "    </tr>\n",
       "    <tr>\n",
       "      <th>8</th>\n",
       "      <td>Finland</td>\n",
       "      <td>Northern Europe</td>\n",
       "      <td>1990</td>\n",
       "      <td>21875.33</td>\n",
       "    </tr>\n",
       "    <tr>\n",
       "      <th>9</th>\n",
       "      <td>France</td>\n",
       "      <td>Western Europe</td>\n",
       "      <td>1990</td>\n",
       "      <td>14436.0</td>\n",
       "    </tr>\n",
       "  </tbody>\n",
       "</table>\n",
       "</div>"
      ],
      "text/plain": [
       "  Country and Area  European Region  Year Forest Area (1000 ha)\n",
       "0          Austria   Western Europe  1990               3775.67\n",
       "1          Belgium   Western Europe  1990                 677.4\n",
       "2         Bulgaria   Eastern Europe  1990                3327.0\n",
       "3          Croatia  Southern Europe  1990                1850.0\n",
       "4           Cyprus  Southern Europe  1990                161.11\n",
       "5          Czechia   Eastern Europe  1990               2629.42\n",
       "6          Denmark  Northern Europe  1990                531.44\n",
       "7          Estonia  Northern Europe  1990                2205.9\n",
       "8          Finland  Northern Europe  1990              21875.33\n",
       "9           France   Western Europe  1990               14436.0"
      ]
     },
     "execution_count": 36,
     "metadata": {},
     "output_type": "execute_result"
    }
   ],
   "source": [
    "# Perform the melting operation\n",
    "# This will reshape the DataFrame from wide to long format, consolidating the various 'Forest Area' columns\n",
    "# into two columns: one for 'Year' and one for 'Forest Area (1000 ha)'. The columns specified in id_vars \n",
    "# ('Country and Area', 'European Region') will remain unchanged\n",
    "forest_melted = forest.melt(id_vars=['Country and Area', 'European Region'], \n",
    "                            var_name='Year', \n",
    "                            value_name='Forest Area (1000 ha)')\n",
    "\n",
    "# After the melt operation, the 'Year' column contains strings from the original column headers\n",
    "# (e.g., 'Forest Area, 1990 (1000 ha)'). The following line extracts the year part from these strings\n",
    "# The regular expression '(\\d{4})' matches any sequence of four digits (the year in this case)\n",
    "forest_melted['Year'] = forest_melted['Year'].str.extract('(\\d{4})')\n",
    "\n",
    "# Display the first 10 rows of the newly reshaped DataFrame\n",
    "forest_melted.head(10)"
   ]
  },
  {
   "cell_type": "code",
   "execution_count": 37,
   "id": "5024482b-5c2c-46c8-b174-be75b3c91a17",
   "metadata": {},
   "outputs": [
    {
     "data": {
      "text/plain": [
       "Country and Area         object\n",
       "European Region          object\n",
       "Year                     object\n",
       "Forest Area (1000 ha)    object\n",
       "dtype: object"
      ]
     },
     "execution_count": 37,
     "metadata": {},
     "output_type": "execute_result"
    }
   ],
   "source": [
    "# Check forest datatypes\n",
    "forest_melted.dtypes"
   ]
  },
  {
   "cell_type": "code",
   "execution_count": 38,
   "id": "b2772378-7582-4d6c-93a3-dc079ea3d88b",
   "metadata": {},
   "outputs": [],
   "source": [
    "# Export the dataframe to an Excel file\n",
    "forest_melted.to_excel('forest_by_year.xlsx', index=False)"
   ]
  }
 ],
 "metadata": {
  "kernelspec": {
   "display_name": "Python 3 (ipykernel)",
   "language": "python",
   "name": "python3"
  },
  "language_info": {
   "codemirror_mode": {
    "name": "ipython",
    "version": 3
   },
   "file_extension": ".py",
   "mimetype": "text/x-python",
   "name": "python",
   "nbconvert_exporter": "python",
   "pygments_lexer": "ipython3",
   "version": "3.10.13"
  }
 },
 "nbformat": 4,
 "nbformat_minor": 5
}
